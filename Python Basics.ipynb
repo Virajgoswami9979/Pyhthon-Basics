{
 "cells": [
  {
   "cell_type": "code",
   "execution_count": 5,
   "id": "e1b90c98",
   "metadata": {},
   "outputs": [
    {
     "data": {
      "text/plain": [
       "str"
      ]
     },
     "execution_count": 5,
     "metadata": {},
     "output_type": "execute_result"
    }
   ],
   "source": [
    "name = \"Viraj\"\n",
    "type(name)"
   ]
  },
  {
   "cell_type": "code",
   "execution_count": 6,
   "id": "b50ac0ef",
   "metadata": {},
   "outputs": [
    {
     "data": {
      "text/plain": [
       "int"
      ]
     },
     "execution_count": 6,
     "metadata": {},
     "output_type": "execute_result"
    }
   ],
   "source": [
    "y = 20\n",
    "type(y)"
   ]
  },
  {
   "cell_type": "code",
   "execution_count": 8,
   "id": "375c4bcb",
   "metadata": {},
   "outputs": [
    {
     "data": {
      "text/plain": [
       "bool"
      ]
     },
     "execution_count": 8,
     "metadata": {},
     "output_type": "execute_result"
    }
   ],
   "source": [
    "b = True\n",
    "type(b)"
   ]
  },
  {
   "cell_type": "code",
   "execution_count": 9,
   "id": "b962a1bb",
   "metadata": {},
   "outputs": [
    {
     "data": {
      "text/plain": [
       "float"
      ]
     },
     "execution_count": 9,
     "metadata": {},
     "output_type": "execute_result"
    }
   ],
   "source": [
    "N = 2.33\n",
    "type(N)"
   ]
  },
  {
   "cell_type": "markdown",
   "id": "6150d33d",
   "metadata": {},
   "source": [
    "### Variables"
   ]
  },
  {
   "cell_type": "code",
   "execution_count": 11,
   "id": "75aaacbe",
   "metadata": {},
   "outputs": [
    {
     "data": {
      "text/plain": [
       "'Viraj'"
      ]
     },
     "execution_count": 11,
     "metadata": {},
     "output_type": "execute_result"
    }
   ],
   "source": [
    "name = 'Viraj'\n",
    "name"
   ]
  },
  {
   "cell_type": "code",
   "execution_count": 13,
   "id": "9f94bd22",
   "metadata": {},
   "outputs": [
    {
     "data": {
      "text/plain": [
       "('Viraj', 'Karan', 'Priyanshu')"
      ]
     },
     "execution_count": 13,
     "metadata": {},
     "output_type": "execute_result"
    }
   ],
   "source": [
    "name_lists = \"Viraj\", \"Karan\", \"Priyanshu\"\n",
    "name_lists"
   ]
  },
  {
   "cell_type": "markdown",
   "id": "dd1756d3",
   "metadata": {},
   "source": [
    "### Strings"
   ]
  },
  {
   "cell_type": "code",
   "execution_count": 14,
   "id": "d486a415",
   "metadata": {},
   "outputs": [
    {
     "data": {
      "text/plain": [
       "'Data Science'"
      ]
     },
     "execution_count": 14,
     "metadata": {},
     "output_type": "execute_result"
    }
   ],
   "source": [
    "course = \"Data Science\"\n",
    "course"
   ]
  },
  {
   "cell_type": "code",
   "execution_count": 15,
   "id": "ad3fe1ca",
   "metadata": {},
   "outputs": [
    {
     "data": {
      "text/plain": [
       "'t'"
      ]
     },
     "execution_count": 15,
     "metadata": {},
     "output_type": "execute_result"
    }
   ],
   "source": [
    "course[2]"
   ]
  },
  {
   "cell_type": "code",
   "execution_count": 16,
   "id": "f007e986",
   "metadata": {},
   "outputs": [
    {
     "data": {
      "text/plain": [
       "' '"
      ]
     },
     "execution_count": 16,
     "metadata": {},
     "output_type": "execute_result"
    }
   ],
   "source": [
    "course[4]"
   ]
  },
  {
   "cell_type": "code",
   "execution_count": 17,
   "id": "9fa78d2d",
   "metadata": {},
   "outputs": [
    {
     "data": {
      "text/plain": [
       "' Sci'"
      ]
     },
     "execution_count": 17,
     "metadata": {},
     "output_type": "execute_result"
    }
   ],
   "source": [
    "course[4:8]"
   ]
  },
  {
   "cell_type": "code",
   "execution_count": 18,
   "id": "5cb2ba84",
   "metadata": {},
   "outputs": [
    {
     "data": {
      "text/plain": [
       "'e'"
      ]
     },
     "execution_count": 18,
     "metadata": {},
     "output_type": "execute_result"
    }
   ],
   "source": [
    "course[-1]"
   ]
  },
  {
   "cell_type": "markdown",
   "id": "a90afd60",
   "metadata": {},
   "source": [
    " ### Lists"
   ]
  },
  {
   "cell_type": "code",
   "execution_count": 20,
   "id": "9a6ccee0",
   "metadata": {},
   "outputs": [
    {
     "data": {
      "text/plain": [
       "list"
      ]
     },
     "execution_count": 20,
     "metadata": {},
     "output_type": "execute_result"
    }
   ],
   "source": [
    "s_l = [3,4,5,6,3,4,1,2,66,69]\n",
    "type(s_l)"
   ]
  },
  {
   "cell_type": "code",
   "execution_count": 22,
   "id": "227893e9",
   "metadata": {},
   "outputs": [
    {
     "data": {
      "text/plain": [
       "[3, 4, 5, 6, 3, 4, 1, 2, 66, 0]"
      ]
     },
     "execution_count": 22,
     "metadata": {},
     "output_type": "execute_result"
    }
   ],
   "source": [
    "s_l[9] = 0\n",
    "s_l"
   ]
  },
  {
   "cell_type": "markdown",
   "id": "15b523ff",
   "metadata": {},
   "source": [
    "### Tuples"
   ]
  },
  {
   "cell_type": "code",
   "execution_count": 23,
   "id": "30729bbb",
   "metadata": {},
   "outputs": [
    {
     "data": {
      "text/plain": [
       "tuple"
      ]
     },
     "execution_count": 23,
     "metadata": {},
     "output_type": "execute_result"
    }
   ],
   "source": [
    "s_t = (1,2,3,4,5)\n",
    "type(s_t)"
   ]
  },
  {
   "cell_type": "code",
   "execution_count": 24,
   "id": "c790e289",
   "metadata": {},
   "outputs": [
    {
     "data": {
      "text/plain": [
       "4"
      ]
     },
     "execution_count": 24,
     "metadata": {},
     "output_type": "execute_result"
    }
   ],
   "source": [
    "s_t[3]"
   ]
  },
  {
   "cell_type": "code",
   "execution_count": 25,
   "id": "1011c927",
   "metadata": {},
   "outputs": [
    {
     "data": {
      "text/plain": [
       "4"
      ]
     },
     "execution_count": 25,
     "metadata": {},
     "output_type": "execute_result"
    }
   ],
   "source": [
    "s_t[-2]"
   ]
  },
  {
   "cell_type": "markdown",
   "id": "3387e648",
   "metadata": {},
   "source": [
    "### Dictionary"
   ]
  },
  {
   "cell_type": "code",
   "execution_count": 26,
   "id": "21b9ed78",
   "metadata": {},
   "outputs": [
    {
     "data": {
      "text/plain": [
       "{'name': 'viraj', 'Age': '20', 'Contact': 'xxxxxxxxxx'}"
      ]
     },
     "execution_count": 26,
     "metadata": {},
     "output_type": "execute_result"
    }
   ],
   "source": [
    "s_d = {'name':'viraj', 'Age':'20','Contact':'xxxxxxxxxx'}\n",
    "s_d"
   ]
  },
  {
   "cell_type": "code",
   "execution_count": 27,
   "id": "c38ffaa6",
   "metadata": {},
   "outputs": [
    {
     "data": {
      "text/plain": [
       "dict_keys(['name', 'Age', 'Contact'])"
      ]
     },
     "execution_count": 27,
     "metadata": {},
     "output_type": "execute_result"
    }
   ],
   "source": [
    "s_d.keys()"
   ]
  },
  {
   "cell_type": "code",
   "execution_count": 28,
   "id": "98080fec",
   "metadata": {},
   "outputs": [
    {
     "data": {
      "text/plain": [
       "dict_values(['viraj', '20', 'xxxxxxxxxx'])"
      ]
     },
     "execution_count": 28,
     "metadata": {},
     "output_type": "execute_result"
    }
   ],
   "source": [
    "s_d.values()"
   ]
  },
  {
   "cell_type": "code",
   "execution_count": 30,
   "id": "814b895d",
   "metadata": {},
   "outputs": [
    {
     "data": {
      "text/plain": [
       "dict"
      ]
     },
     "execution_count": 30,
     "metadata": {},
     "output_type": "execute_result"
    }
   ],
   "source": [
    "type(s_d)"
   ]
  },
  {
   "cell_type": "code",
   "execution_count": null,
   "id": "edf1f167",
   "metadata": {},
   "outputs": [],
   "source": []
  }
 ],
 "metadata": {
  "kernelspec": {
   "display_name": "Python 3 (ipykernel)",
   "language": "python",
   "name": "python3"
  },
  "language_info": {
   "codemirror_mode": {
    "name": "ipython",
    "version": 3
   },
   "file_extension": ".py",
   "mimetype": "text/x-python",
   "name": "python",
   "nbconvert_exporter": "python",
   "pygments_lexer": "ipython3",
   "version": "3.11.5"
  }
 },
 "nbformat": 4,
 "nbformat_minor": 5
}
